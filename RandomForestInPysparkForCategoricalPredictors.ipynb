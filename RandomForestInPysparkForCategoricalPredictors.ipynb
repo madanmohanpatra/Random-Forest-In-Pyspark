{
 "cells": [
  {
   "cell_type": "markdown",
   "metadata": {},
   "source": [
    " ##  Nursery Database was derived from a hierarchical decision model originally developed to rank applications for nursery schools. It was used during several years in 1980's when there was excessive enrollment to these schools in Ljubljana, Slovenia, and the  rejected applications frequently needed an objective explanation."
   ]
  },
  {
   "cell_type": "code",
   "execution_count": 1,
   "metadata": {},
   "outputs": [],
   "source": [
    "from sklearn.model_selection import GridSearchCV\n",
    "import numpy as np\n",
    "import pandas as pd\n",
    "import pyspark\n",
    "from pyspark.sql.functions import *\n",
    "from pyspark.sql import SparkSession\n",
    "from pyspark.conf import SparkConf\n",
    "from pyspark.context import SparkContext\n",
    "from pyspark.ml import Pipeline\n",
    "from pyspark.ml.feature import StringIndexer, IndexToString\n",
    "from pyspark.ml.feature import VectorAssembler\n",
    "from numpy import array\n",
    "import warnings\n",
    "from pyspark.ml.classification import RandomForestClassifier\n",
    "from pyspark.ml.evaluation import MulticlassClassificationEvaluator\n",
    "from pyspark.mllib.evaluation import MulticlassMetrics\n",
    "from pyspark.ml.tuning import CrossValidator, ParamGridBuilder\n",
    "import seaborn as sns\n",
    "import matplotlib.pyplot as plt\n",
    "warnings.filterwarnings(\"ignore\")\n",
    "%matplotlib inline"
   ]
  },
  {
   "cell_type": "code",
   "execution_count": 2,
   "metadata": {},
   "outputs": [],
   "source": [
    "data_df=pd.read_csv(\"https://archive.ics.uci.edu/ml/machine-learning-databases/nursery/nursery.data\",header=None)"
   ]
  },
  {
   "cell_type": "code",
   "execution_count": 3,
   "metadata": {},
   "outputs": [],
   "source": [
    "data_df.columns=[\"parents\",'has_nurs', 'form', 'children', 'housing', 'finance','social','health','Eval']"
   ]
  },
  {
   "cell_type": "code",
   "execution_count": 4,
   "metadata": {},
   "outputs": [
    {
     "data": {
      "text/html": [
       "<div>\n",
       "<style scoped>\n",
       "    .dataframe tbody tr th:only-of-type {\n",
       "        vertical-align: middle;\n",
       "    }\n",
       "\n",
       "    .dataframe tbody tr th {\n",
       "        vertical-align: top;\n",
       "    }\n",
       "\n",
       "    .dataframe thead th {\n",
       "        text-align: right;\n",
       "    }\n",
       "</style>\n",
       "<table border=\"1\" class=\"dataframe\">\n",
       "  <thead>\n",
       "    <tr style=\"text-align: right;\">\n",
       "      <th></th>\n",
       "      <th>parents</th>\n",
       "      <th>has_nurs</th>\n",
       "      <th>form</th>\n",
       "      <th>children</th>\n",
       "      <th>housing</th>\n",
       "      <th>finance</th>\n",
       "      <th>social</th>\n",
       "      <th>health</th>\n",
       "      <th>Eval</th>\n",
       "    </tr>\n",
       "  </thead>\n",
       "  <tbody>\n",
       "    <tr>\n",
       "      <th>0</th>\n",
       "      <td>usual</td>\n",
       "      <td>proper</td>\n",
       "      <td>complete</td>\n",
       "      <td>1</td>\n",
       "      <td>convenient</td>\n",
       "      <td>convenient</td>\n",
       "      <td>nonprob</td>\n",
       "      <td>recommended</td>\n",
       "      <td>recommend</td>\n",
       "    </tr>\n",
       "    <tr>\n",
       "      <th>1</th>\n",
       "      <td>usual</td>\n",
       "      <td>proper</td>\n",
       "      <td>complete</td>\n",
       "      <td>1</td>\n",
       "      <td>convenient</td>\n",
       "      <td>convenient</td>\n",
       "      <td>nonprob</td>\n",
       "      <td>priority</td>\n",
       "      <td>priority</td>\n",
       "    </tr>\n",
       "    <tr>\n",
       "      <th>2</th>\n",
       "      <td>usual</td>\n",
       "      <td>proper</td>\n",
       "      <td>complete</td>\n",
       "      <td>1</td>\n",
       "      <td>convenient</td>\n",
       "      <td>convenient</td>\n",
       "      <td>nonprob</td>\n",
       "      <td>not_recom</td>\n",
       "      <td>not_recom</td>\n",
       "    </tr>\n",
       "    <tr>\n",
       "      <th>3</th>\n",
       "      <td>usual</td>\n",
       "      <td>proper</td>\n",
       "      <td>complete</td>\n",
       "      <td>1</td>\n",
       "      <td>convenient</td>\n",
       "      <td>convenient</td>\n",
       "      <td>slightly_prob</td>\n",
       "      <td>recommended</td>\n",
       "      <td>recommend</td>\n",
       "    </tr>\n",
       "  </tbody>\n",
       "</table>\n",
       "</div>"
      ],
      "text/plain": [
       "  parents has_nurs      form children     housing     finance         social  \\\n",
       "0   usual   proper  complete        1  convenient  convenient        nonprob   \n",
       "1   usual   proper  complete        1  convenient  convenient        nonprob   \n",
       "2   usual   proper  complete        1  convenient  convenient        nonprob   \n",
       "3   usual   proper  complete        1  convenient  convenient  slightly_prob   \n",
       "\n",
       "        health       Eval  \n",
       "0  recommended  recommend  \n",
       "1     priority   priority  \n",
       "2    not_recom  not_recom  \n",
       "3  recommended  recommend  "
      ]
     },
     "execution_count": 4,
     "metadata": {},
     "output_type": "execute_result"
    }
   ],
   "source": [
    "data_df.head(4)"
   ]
  },
  {
   "cell_type": "code",
   "execution_count": 5,
   "metadata": {},
   "outputs": [
    {
     "data": {
      "text/plain": [
       "Index(['parents', 'has_nurs', 'form', 'children', 'housing', 'finance',\n",
       "       'social', 'health', 'Eval'],\n",
       "      dtype='object')"
      ]
     },
     "execution_count": 5,
     "metadata": {},
     "output_type": "execute_result"
    }
   ],
   "source": [
    "data_df.columns"
   ]
  },
  {
   "cell_type": "markdown",
   "metadata": {},
   "source": [
    "# Dataset has eight predictors along with Target: \n",
    "    #parents     Parent's occupation (usual, pretentious, great_pret)\n",
    "    #has_nurs    Child's nursery (proper, less_proper, improper, critical, very_crit)\n",
    "    #form        Form of the family (complete, completed, incomplete, foster)\n",
    "    #children    Number of children (1, 2, 3, more)\n",
    "    #housing     Housing condition (convenient, less_conv, critical)\n",
    "    #finance     Financial standing of the family (convenient, inconv)\n",
    "    #social      Social conditions (non-prob, slightly_prob, problematic)\n",
    "    #health      Health conditions (recommended, priority, not_recom)\n",
    "           \n",
    "    # Eval        Evaluation of applications for nursery schools(not_recom, recommend,very_recom, priority, spec_prior)"
   ]
  },
  {
   "cell_type": "markdown",
   "metadata": {},
   "source": [
    "## Panda Dataframe is converted to Pyspark Database as we want to implement in pyspark"
   ]
  },
  {
   "cell_type": "code",
   "execution_count": 6,
   "metadata": {},
   "outputs": [],
   "source": [
    "spark =pyspark.sql.SparkSession.builder.master(\"local\").getOrCreate()"
   ]
  },
  {
   "cell_type": "code",
   "execution_count": 7,
   "metadata": {},
   "outputs": [],
   "source": [
    "df_data=spark.createDataFrame(data_df)"
   ]
  },
  {
   "cell_type": "code",
   "execution_count": 8,
   "metadata": {},
   "outputs": [
    {
     "name": "stdout",
     "output_type": "stream",
     "text": [
      "root\n",
      " |-- parents: string (nullable = true)\n",
      " |-- has_nurs: string (nullable = true)\n",
      " |-- form: string (nullable = true)\n",
      " |-- children: string (nullable = true)\n",
      " |-- housing: string (nullable = true)\n",
      " |-- finance: string (nullable = true)\n",
      " |-- social: string (nullable = true)\n",
      " |-- health: string (nullable = true)\n",
      " |-- Eval: string (nullable = true)\n",
      "\n"
     ]
    }
   ],
   "source": [
    "df_data.printSchema()"
   ]
  },
  {
   "cell_type": "markdown",
   "metadata": {},
   "source": [
    "## categorical predictor columns and use of StringIndexer"
   ]
  },
  {
   "cell_type": "code",
   "execution_count": 9,
   "metadata": {},
   "outputs": [],
   "source": [
    "cat_cols=[\"parents\",'has_nurs', 'form', 'children', 'housing', 'finance','social','health']"
   ]
  },
  {
   "cell_type": "code",
   "execution_count": 10,
   "metadata": {},
   "outputs": [],
   "source": [
    "indexer=[StringIndexer(inputCol=cat_col,outputCol=cat_col+'index',handleInvalid='keep').fit(df_data) for cat_col in cat_cols]"
   ]
  },
  {
   "cell_type": "markdown",
   "metadata": {},
   "source": [
    "## categorical target column and use of StringIndexer and IndexToString"
   ]
  },
  {
   "cell_type": "code",
   "execution_count": 11,
   "metadata": {},
   "outputs": [],
   "source": [
    "eval_indexer = StringIndexer(inputCol='Eval',outputCol='EvalIndex',handleInvalid='keep').fit(df_data)"
   ]
  },
  {
   "cell_type": "code",
   "execution_count": 12,
   "metadata": {},
   "outputs": [],
   "source": [
    "indexer_to_eval = IndexToString(inputCol='prediction',outputCol='Evaluted_Class',labels=eval_indexer.labels)"
   ]
  },
  {
   "cell_type": "markdown",
   "metadata": {},
   "source": [
    "## VectorAssembler and Pipeline and CrossValidator"
   ]
  },
  {
   "cell_type": "code",
   "execution_count": 13,
   "metadata": {},
   "outputs": [],
   "source": [
    "feature_set=[cat_col+'index' for cat_col in cat_cols]"
   ]
  },
  {
   "cell_type": "code",
   "execution_count": 14,
   "metadata": {},
   "outputs": [],
   "source": [
    "assembler=VectorAssembler(inputCols=feature_set,outputCol='features')"
   ]
  },
  {
   "cell_type": "code",
   "execution_count": 15,
   "metadata": {},
   "outputs": [],
   "source": [
    "random_forest_dt =RandomForestClassifier(featuresCol='features',labelCol='EvalIndex',maxBins=1500,numTrees=32,seed=42)"
   ]
  },
  {
   "cell_type": "code",
   "execution_count": 16,
   "metadata": {},
   "outputs": [],
   "source": [
    "random_forest_pipeline = Pipeline(stages=indexer+[assembler,eval_indexer,random_forest_dt,indexer_to_eval])"
   ]
  },
  {
   "cell_type": "code",
   "execution_count": 17,
   "metadata": {},
   "outputs": [],
   "source": [
    "random_forest_paramGrid = ParamGridBuilder()\\\n",
    "                          .addGrid(random_forest_dt.numTrees, [25,30])\\\n",
    "                          .addGrid(random_forest_dt.maxDepth, [10,15,20])\\\n",
    "                          .build()"
   ]
  },
  {
   "cell_type": "code",
   "execution_count": 18,
   "metadata": {},
   "outputs": [],
   "source": [
    "evaluator_random_forest = MulticlassClassificationEvaluator(\n",
    "    labelCol=\"EvalIndex\", predictionCol=\"prediction\", metricName=\"accuracy\")"
   ]
  },
  {
   "cell_type": "code",
   "execution_count": 19,
   "metadata": {},
   "outputs": [],
   "source": [
    "crossval = CrossValidator(estimator=random_forest_pipeline,\n",
    "                          estimatorParamMaps=random_forest_paramGrid,\n",
    "                          evaluator= evaluator_random_forest,\n",
    "                          numFolds=2)"
   ]
  },
  {
   "cell_type": "markdown",
   "metadata": {},
   "source": [
    "## Splitting Data and Train and Test Data and Model Fitting"
   ]
  },
  {
   "cell_type": "code",
   "execution_count": 20,
   "metadata": {},
   "outputs": [],
   "source": [
    "train_data, test_data = df_data.randomSplit([0.7,.3],seed=23)"
   ]
  },
  {
   "cell_type": "code",
   "execution_count": 21,
   "metadata": {},
   "outputs": [],
   "source": [
    "cvModel=crossval.fit(train_data)"
   ]
  },
  {
   "cell_type": "code",
   "execution_count": 22,
   "metadata": {},
   "outputs": [],
   "source": [
    "random_forest_fit_model = cvModel.bestModel"
   ]
  },
  {
   "cell_type": "code",
   "execution_count": 23,
   "metadata": {},
   "outputs": [],
   "source": [
    "predictions_random_forest = random_forest_fit_model.transform(test_data)"
   ]
  },
  {
   "cell_type": "code",
   "execution_count": 24,
   "metadata": {},
   "outputs": [],
   "source": [
    "accuracy_random_forest = evaluator_random_forest.evaluate(predictions_random_forest)"
   ]
  },
  {
   "cell_type": "code",
   "execution_count": 25,
   "metadata": {},
   "outputs": [
    {
     "name": "stdout",
     "output_type": "stream",
     "text": [
      "Test Error = 0.00775194 \n"
     ]
    }
   ],
   "source": [
    "print(\"Test Error = %g \" % (1.0 - accuracy_random_forest))"
   ]
  },
  {
   "cell_type": "code",
   "execution_count": 26,
   "metadata": {},
   "outputs": [],
   "source": [
    "predictionAndLabel = predictions_random_forest.select(\"prediction\", \"EvalIndex\").rdd"
   ]
  },
  {
   "cell_type": "markdown",
   "metadata": {},
   "source": [
    "## Confusin Matrix for MultiClass classification "
   ]
  },
  {
   "cell_type": "code",
   "execution_count": 27,
   "metadata": {},
   "outputs": [],
   "source": [
    "metrics = MulticlassMetrics(predictionAndLabel)"
   ]
  },
  {
   "cell_type": "code",
   "execution_count": 28,
   "metadata": {},
   "outputs": [
    {
     "name": "stdout",
     "output_type": "stream",
     "text": [
      "Precision = 0.9922480620155039\n",
      "Recall = 0.9922480620155039\n",
      "F1 Score = 0.9922480620155039\n"
     ]
    }
   ],
   "source": [
    "print(\"Precision = %s\" % metrics.precision()); print(\"Recall = %s\" % metrics.recall());print(\"F1 Score = %s\" % metrics.fMeasure())"
   ]
  },
  {
   "cell_type": "markdown",
   "metadata": {},
   "source": [
    "#Explantion why precision, recall and F1 score can have same value:\n",
    "\n",
    "Definitions of precision, recall and F1 score:\n",
    "    \n",
    "True positive samples (TP) are samples that were classified positive and are really positive. \n",
    "False positive samples (FP) are samples that were classified positivebut should have been \n",
    "classified negative. Analogously, false negative samples (FN) were classified negative\n",
    "but should be positive. Here, TP, FP and FN stand for the respective number of samples \n",
    "in each of the classes.\n",
    "\n",
    "Precision P=TP/(TP+FP)\n",
    "Precision can be intuitively understood as the classifier’s ability to only predict\n",
    "really positive samples as positive. For example, a classifier that classifies just\n",
    "everything as positive would have a precision of 0.5 in a balanced test set\n",
    "(50% positive, 50% negative). One that has no false positives, i.e. classifies only\n",
    "the true positives as positive would have a precision of 1.0. So basically, the less\n",
    "false positives a classifier gives, the higher is its precision.\n",
    "\n",
    "Recall R=TP/(TP+FN)\n",
    "Recall can be interpreted as the amount of positive test samples that were actually \n",
    "classified as positive. A classifier that just outputs positive for every sample,\n",
    "regardless if it is really positive, would get a recall of 1.0 but a lower precision. \n",
    "The less false negatives a clasifier gives, the higher is its recall.\n",
    "\n",
    "So the higher precision and recall are, the better the classifier performs because\n",
    "it detects most of the positive samples (high recall) and does not detect many samples \n",
    "that should not be detected (high precision). In order to quantify that, \n",
    "we can use another metric called F1 score.\n",
    "\n",
    "F1 score F1=2P∗R/(P+R)\n",
    "This is just the weighted average between precision and recall. The higher precision and \n",
    "recall are, the higher the F1 score is. We can directly see from this formula, that \n",
    "if P=R, then F1=P=R, because:\n",
    "\n",
    "F1=2P∗R/(P+R)=2P∗P/(P+P)=P\n",
    "So this already explains why the F1 score is the same as precision and recall, if precision\n",
    "and recall are the same"
   ]
  },
  {
   "cell_type": "code",
   "execution_count": 29,
   "metadata": {},
   "outputs": [],
   "source": [
    "confusion_mat=metrics.confusionMatrix()"
   ]
  },
  {
   "cell_type": "code",
   "execution_count": 30,
   "metadata": {},
   "outputs": [
    {
     "data": {
      "image/png": "[encoded data removed]",
      "text/plain": [
       "<Figure size 720x720 with 2 Axes>"
      ]
     },
     "metadata": {
      "needs_background": "light"
     },
     "output_type": "display_data"
    }
   ],
   "source": [
    "fig, ax = plt.subplots(figsize=(10,10))\n",
    "sns.heatmap(confusion_mat.toArray(),xticklabels=indexer_to_eval.getLabels(),yticklabels=indexer_to_eval.getLabels(),cmap=\"YlGnBu\")\n",
    "plt.show()"
   ]
  },
  {
   "cell_type": "code",
   "execution_count": 31,
   "metadata": {},
   "outputs": [],
   "source": [
    "confusion_mat_norm=confusion_mat.toArray()/np.expand_dims(confusion_mat.toArray().sum(axis=1),axis=1)"
   ]
  },
  {
   "cell_type": "code",
   "execution_count": 32,
   "metadata": {},
   "outputs": [
    {
     "data": {
      "image/png": "[encoded data removed]",
      "text/plain": [
       "<Figure size 720x720 with 2 Axes>"
      ]
     },
     "metadata": {
      "needs_background": "light"
     },
     "output_type": "display_data"
    }
   ],
   "source": [
    "fig, ax = plt.subplots(figsize=(10,10))\n",
    "sns.heatmap(confusion_mat_norm,xticklabels=indexer_to_eval.getLabels(),yticklabels=indexer_to_eval.getLabels(),cmap=\"YlGnBu\",annot=True,annot_kws={\"size\": 8})\n",
    "plt.show()"
   ]
  }
 ],
 "metadata": {
  "kernelspec": {
   "display_name": "Python 3",
   "language": "python",
   "name": "python3"
  },
  "language_info": {
   "codemirror_mode": {
    "name": "ipython",
    "version": 3
   },
   "file_extension": ".py",
   "mimetype": "text/x-python",
   "name": "python",
   "nbconvert_exporter": "python",
   "pygments_lexer": "ipython3",
   "version": "3.6.6"
  }
 },
 "nbformat": 4,
 "nbformat_minor": 2
}
